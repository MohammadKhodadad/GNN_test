{
 "cells": [
  {
   "cell_type": "code",
   "execution_count": 118,
   "metadata": {},
   "outputs": [],
   "source": [
    "import numpy as np\n",
    "import pandas as pd\n",
    "import tensorflow as tf\n",
    "import tensorflow.keras.backend as K\n",
    "from torch_geometric.datasets import Planetoid"
   ]
  },
  {
   "cell_type": "code",
   "execution_count": 100,
   "metadata": {},
   "outputs": [],
   "source": [
    "dataset =Planetoid(\".\",\"Cora\",split='random',num_val=500,num_test=0)\n",
    "data=dataset[0]\n",
    "num_class=7"
   ]
  },
  {
   "cell_type": "code",
   "execution_count": 280,
   "metadata": {},
   "outputs": [],
   "source": [
    "# am=np.eye(2708)\n",
    "am=np.zeros((2708,2708)).astype(np.float32)\n",
    "for i in range(data.edge_index.shape[1]):\n",
    "    am[data.edge_index[0,i],data.edge_index[1,i]]=1\n",
    "\n",
    "x=np.array([np.array(data.x)])\n",
    "y=np.zeros((1,2708,7)).astype(np.float32)\n",
    "for i in range(2708):\n",
    "    y[0,i,data.y[i]]=1\n",
    "trains=np.array(data.train_mask)\n",
    "vals=np.array(data.val_mask)\n",
    "train_inds=[[0,i] for i in range(2708) if vals[i]==False]\n",
    "val_inds=[[0,i] for i in range(2708) if vals[i]==True]"
   ]
  },
  {
   "cell_type": "code",
   "execution_count": 356,
   "metadata": {},
   "outputs": [
    {
     "name": "stdout",
     "output_type": "stream",
     "text": [
      "Model: \"model_35\"\n",
      "__________________________________________________________________________________________________\n",
      "Layer (type)                    Output Shape         Param #     Connected to                     \n",
      "==================================================================================================\n",
      "input_43 (InputLayer)           [(None, 2708, 1433)] 0                                            \n",
      "__________________________________________________________________________________________________\n",
      "conv1d_82 (Conv1D)              (None, 2708, 64)     91776       input_43[0][0]                   \n",
      "__________________________________________________________________________________________________\n",
      "conv1d_83 (Conv1D)              (None, 2708, 64)     91776       input_43[0][0]                   \n",
      "__________________________________________________________________________________________________\n",
      "gnn_layer_40 (gnn_layer)        (None, 2708, 64)     0           conv1d_82[0][0]                  \n",
      "                                                                 conv1d_83[0][0]                  \n",
      "__________________________________________________________________________________________________\n",
      "conv1d_84 (Conv1D)              (None, 2708, 64)     4160        gnn_layer_40[0][0]               \n",
      "__________________________________________________________________________________________________\n",
      "conv1d_85 (Conv1D)              (None, 2708, 64)     4160        gnn_layer_40[0][0]               \n",
      "__________________________________________________________________________________________________\n",
      "gnn_layer_41 (gnn_layer)        (None, 2708, 64)     0           conv1d_84[0][0]                  \n",
      "                                                                 conv1d_85[0][0]                  \n",
      "__________________________________________________________________________________________________\n",
      "dense_37 (Dense)                (None, 2708, 7)      455         gnn_layer_41[0][0]               \n",
      "==================================================================================================\n",
      "Total params: 192,327\n",
      "Trainable params: 192,327\n",
      "Non-trainable params: 0\n",
      "__________________________________________________________________________________________________\n"
     ]
    }
   ],
   "source": [
    "class gnn_layer(tf.keras.layers.Layer): \n",
    "   def __init__(self,**kwargs): \n",
    "      super(gnn_layer, self).__init__(**kwargs) \n",
    "      \n",
    "   def call(self, inps):\n",
    "      q, k=inps\n",
    "      out=K.batch_dot(am,k,axes=[1,1])+q\n",
    "      return out\n",
    "\n",
    "\n",
    "inp=tf.keras.layers.Input((2708, 1433))\n",
    "q=tf.keras.layers.Conv1D(64,kernel_size=1,activation=\"relu\")(inp)\n",
    "k=tf.keras.layers.Conv1D(64,kernel_size=1,activation=\"relu\")(inp)\n",
    "gnn=gnn_layer()([q,k])\n",
    "\n",
    "q=tf.keras.layers.Conv1D(64,kernel_size=1,activation=\"relu\")(gnn)\n",
    "k=tf.keras.layers.Conv1D(64,kernel_size=1,activation=\"relu\")(gnn)\n",
    "gnn=gnn_layer()([q,k])\n",
    "\n",
    "out=tf.keras.layers.Dense(7,activation=\"softmax\")(gnn)\n",
    "model=tf.keras.Model(inp,out)\n",
    "@tf.function\n",
    "def loss(y_pred,y_true):\n",
    "    # return tf.losses.CategoricalCrossentropy()(y_pred[:,np.logical_not(vals),:],y_true[:,np.logical_not(vals),:])\n",
    "    return tf.losses.CategoricalCrossentropy()(tf.gather_nd(params=y_pred,indices=train_inds),tf.gather_nd(params=y_true,indices=train_inds))\n",
    "@tf.function\n",
    "def metric(y_pred,y_true):\n",
    "    # return tf.keras.metrics.CategoricalAccuracy()(y_pred[:,vals,:],y_true[:,vals,:])\n",
    "    return K.mean(tf.cast(K.argmax(tf.gather_nd(params=y_pred,indices=val_inds),axis=-1)==K.argmax(tf.gather_nd(params=y_true,indices=val_inds),axis=-1),tf.float32))\n",
    "    # return tf.losses.CategoricalCrossentropy()(tf.gather_nd(params=y_pred,indices=val_inds),tf.gather_nd(params=y_true,indices=val_inds))\n",
    "\n",
    "\n",
    "model.compile(\n",
    "        optimizer=tf.keras.optimizers.Adam(0.01),\n",
    "        loss=loss,\n",
    "        metrics=[metric],\n",
    "    )\n",
    "model.summary()"
   ]
  },
  {
   "cell_type": "code",
   "execution_count": 357,
   "metadata": {},
   "outputs": [
    {
     "name": "stdout",
     "output_type": "stream",
     "text": [
      "Epoch 1/32\n",
      "1/1 [==============================] - 10s 10s/step - loss: 4.5155 - metric: 0.1160\n",
      "Epoch 2/32\n",
      "1/1 [==============================] - 4s 4s/step - loss: 4.0985 - metric: 0.3260\n",
      "Epoch 3/32\n",
      "1/1 [==============================] - 4s 4s/step - loss: 5.7743 - metric: 0.3220\n",
      "Epoch 4/32\n",
      "1/1 [==============================] - 4s 4s/step - loss: 4.8793 - metric: 0.4380\n",
      "Epoch 5/32\n",
      "1/1 [==============================] - 4s 4s/step - loss: 4.3931 - metric: 0.3740\n",
      "Epoch 6/32\n",
      "1/1 [==============================] - 4s 4s/step - loss: 3.7136 - metric: 0.4360\n",
      "Epoch 7/32\n",
      "1/1 [==============================] - 4s 4s/step - loss: 3.1676 - metric: 0.5080\n",
      "Epoch 8/32\n",
      "1/1 [==============================] - 4s 4s/step - loss: 2.5528 - metric: 0.5700\n",
      "Epoch 9/32\n",
      "1/1 [==============================] - 4s 4s/step - loss: 1.6223 - metric: 0.6700\n",
      "Epoch 10/32\n",
      "1/1 [==============================] - 4s 4s/step - loss: 0.9318 - metric: 0.7780\n",
      "Epoch 11/32\n",
      "1/1 [==============================] - 4s 4s/step - loss: 0.9173 - metric: 0.7300\n",
      "Epoch 12/32\n",
      "1/1 [==============================] - 4s 4s/step - loss: 0.9319 - metric: 0.7140\n",
      "Epoch 13/32\n",
      "1/1 [==============================] - 4s 4s/step - loss: 0.8814 - metric: 0.7660\n",
      "Epoch 14/32\n",
      "1/1 [==============================] - 4s 4s/step - loss: 0.8281 - metric: 0.8180\n",
      "Epoch 15/32\n",
      "1/1 [==============================] - 4s 4s/step - loss: 0.7978 - metric: 0.8240\n",
      "Epoch 16/32\n",
      "1/1 [==============================] - 3s 3s/step - loss: 0.7744 - metric: 0.8320\n",
      "Epoch 17/32\n",
      "1/1 [==============================] - 4s 4s/step - loss: 0.7485 - metric: 0.8460\n",
      "Epoch 18/32\n",
      "1/1 [==============================] - 4s 4s/step - loss: 0.7171 - metric: 0.8500\n",
      "Epoch 19/32\n",
      "1/1 [==============================] - 3s 3s/step - loss: 0.6802 - metric: 0.8540\n",
      "Epoch 20/32\n",
      "1/1 [==============================] - 3s 3s/step - loss: 0.6401 - metric: 0.8600\n",
      "Epoch 21/32\n",
      "1/1 [==============================] - 3s 3s/step - loss: 0.5979 - metric: 0.8720\n",
      "Epoch 22/32\n",
      "1/1 [==============================] - 3s 3s/step - loss: 0.5567 - metric: 0.8700\n",
      "Epoch 23/32\n",
      "1/1 [==============================] - 3s 3s/step - loss: 0.5195 - metric: 0.8760\n",
      "Epoch 24/32\n",
      "1/1 [==============================] - 3s 3s/step - loss: 0.4857 - metric: 0.8840\n",
      "Epoch 25/32\n",
      "1/1 [==============================] - 3s 3s/step - loss: 0.4531 - metric: 0.8800\n",
      "Epoch 26/32\n",
      "1/1 [==============================] - 3s 3s/step - loss: 0.4195 - metric: 0.8760\n",
      "Epoch 27/32\n",
      "1/1 [==============================] - 3s 3s/step - loss: 0.3870 - metric: 0.8780\n",
      "Epoch 28/32\n",
      "1/1 [==============================] - 4s 4s/step - loss: 0.3576 - metric: 0.8840\n",
      "Epoch 29/32\n",
      "1/1 [==============================] - 4s 4s/step - loss: 0.3304 - metric: 0.8760\n",
      "Epoch 30/32\n",
      "1/1 [==============================] - 4s 4s/step - loss: 0.3048 - metric: 0.8860\n",
      "Epoch 31/32\n",
      "1/1 [==============================] - 3s 3s/step - loss: 0.2823 - metric: 0.8860\n",
      "Epoch 32/32\n",
      "1/1 [==============================] - 3s 3s/step - loss: 0.2631 - metric: 0.8860\n"
     ]
    },
    {
     "data": {
      "text/plain": [
       "<tensorflow.python.keras.callbacks.History at 0x7f02d2e0>"
      ]
     },
     "execution_count": 357,
     "metadata": {},
     "output_type": "execute_result"
    }
   ],
   "source": [
    "model.fit(x,y,epochs=64)"
   ]
  }
 ],
 "metadata": {
  "interpreter": {
   "hash": "9c74685c8b2fb4e4d6eb0051acdc88562aed2d5b0c51697c0faa1779b25bfa90"
  },
  "kernelspec": {
   "display_name": "Python 3.8.10 64-bit",
   "language": "python",
   "name": "python3"
  },
  "language_info": {
   "codemirror_mode": {
    "name": "ipython",
    "version": 3
   },
   "file_extension": ".py",
   "mimetype": "text/x-python",
   "name": "python",
   "nbconvert_exporter": "python",
   "pygments_lexer": "ipython3",
   "version": "3.8.10"
  },
  "orig_nbformat": 4
 },
 "nbformat": 4,
 "nbformat_minor": 2
}
